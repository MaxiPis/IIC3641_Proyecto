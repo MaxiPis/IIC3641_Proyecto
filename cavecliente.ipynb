{
 "cells": [
  {
   "cell_type": "code",
   "execution_count": 1,
   "id": "12f30113",
   "metadata": {},
   "outputs": [
    {
     "name": "stdout",
     "output_type": "stream",
     "text": [
      "New Tokens need to be acquired by hand. Please follow the following steps:\n",
      "                1) Go to: https://global.daf-apis.com/auth/api/v1/create_token to create a new token.\n",
      "                2) Log in with your Google credentials and copy the token shown afterward.\n",
      "                3a) Save it to your computer with: client.auth.save_token(token=\"PASTE_YOUR_TOKEN_HERE\")\n",
      "                or\n",
      "                3b) Set it for the current session only with client.auth.token = \"PASTE_YOUR_TOKEN_HERE\"\n",
      "                Note: If you need to save or load multiple tokens, please read the documentation for details.\n",
      "                Warning! Creating a new token by finishing step 2 will invalidate the previous token!\n"
     ]
    }
   ],
   "source": [
    "# Realizamos el setup\n",
    "from caveclient import CAVEclient\n",
    "client = CAVEclient()\n",
    "client.auth.setup_token(make_new=True)"
   ]
  },
  {
   "cell_type": "code",
   "execution_count": 2,
   "id": "c4e62f65",
   "metadata": {},
   "outputs": [],
   "source": [
    "YOUR_TOKEN = \"bda5a85005cc3afb7a77313e1b706f05\"\n",
    "client.auth.save_token(token=YOUR_TOKEN)"
   ]
  },
  {
   "cell_type": "code",
   "execution_count": 23,
   "id": "2f606414",
   "metadata": {},
   "outputs": [],
   "source": [
    "from caveclient import CAVEclient\n",
    "# Probando si estamos dentro\n",
    "client = CAVEclient('minnie65_public')"
   ]
  },
  {
   "cell_type": "markdown",
   "id": "02951597",
   "metadata": {},
   "source": [
    "Continuamos con la parte 2 del tutorial"
   ]
  },
  {
   "cell_type": "code",
   "execution_count": 24,
   "id": "b7d012a0",
   "metadata": {},
   "outputs": [
    {
     "data": {
      "text/plain": [
       "'This is the publicly released version of the minnie65 volume and segmentation. '"
      ]
     },
     "execution_count": 24,
     "metadata": {},
     "output_type": "execute_result"
    }
   ],
   "source": [
    "from caveclient import CAVEclient\n",
    "datastack_name = 'minnie65_public'\n",
    "client = CAVEclient(datastack_name)\n",
    "\n",
    "# Show the description of the datastack\n",
    "client.info.get_datastack_info()['description']"
   ]
  },
  {
   "cell_type": "code",
   "execution_count": 28,
   "id": "00791a53",
   "metadata": {},
   "outputs": [
    {
     "data": {
      "text/plain": [
       "[1300, 1078, 117, 661, 343, 1181, 795, 943, 1412, 1507]"
      ]
     },
     "execution_count": 28,
     "metadata": {},
     "output_type": "execute_result"
    }
   ],
   "source": [
    "# see the available materialization versions\n",
    "client.materialize.get_versions()"
   ]
  },
  {
   "cell_type": "code",
   "execution_count": 29,
   "id": "2a654fb6",
   "metadata": {},
   "outputs": [
    {
     "name": "stdout",
     "output_type": "stream",
     "text": [
      "Version 1300: 2025-01-13 10:10:01.286229+00:00\n",
      "Version 1078: 2024-06-05 10:10:01.203215+00:00\n",
      "Version 117: 2021-06-11 08:10:00.215114+00:00\n",
      "Version 661: 2023-04-06 20:17:09.199182+00:00\n",
      "Version 343: 2022-02-24 08:10:00.184668+00:00\n",
      "Version 1181: 2024-09-16 10:10:01.121167+00:00\n",
      "Version 795: 2023-08-23 08:10:01.404268+00:00\n",
      "Version 943: 2024-01-22 08:10:01.497934+00:00\n",
      "Version 1412: 2025-04-29 10:10:01.200893+00:00\n",
      "Version 1507: 2025-07-31 08:10:01.117494+00:00\n"
     ]
    }
   ],
   "source": [
    "for version in client.materialize.get_versions():\n",
    "    print(f\"Version {version}: {client.materialize.get_timestamp(version)}\")"
   ]
  },
  {
   "cell_type": "code",
   "execution_count": 33,
   "id": "8742a987",
   "metadata": {},
   "outputs": [
    {
     "data": {
      "text/plain": [
       "['baylor_gnn_cell_type_fine_model_v2',\n",
       " 'nucleus_alternative_points',\n",
       " 'allen_column_mtypes_v2',\n",
       " 'bodor_pt_cells',\n",
       " 'aibs_metamodel_mtypes_v661_v2',\n",
       " 'allen_v1_column_types_slanted_ref',\n",
       " 'aibs_column_nonneuronal_ref',\n",
       " 'nucleus_ref_neuron_svm',\n",
       " 'apl_functional_coreg_vess_fwd',\n",
       " 'vortex_compartment_targets',\n",
       " 'baylor_log_reg_cell_type_coarse_v1',\n",
       " 'gamlin_2023_mcs',\n",
       " 'l5et_column',\n",
       " 'pt_synapse_targets',\n",
       " 'coregistration_manual_v4',\n",
       " 'cg_cell_type_calls',\n",
       " 'synapses_pni_2',\n",
       " 'nucleus_detection_v0',\n",
       " 'vortex_manual_nodes_of_ranvier',\n",
       " 'bodor_pt_target_proofread',\n",
       " 'nucleus_functional_area_assignment',\n",
       " 'coregistration_auto_phase3_fwd_apl_vess_combined_v2',\n",
       " 'vortex_thalamic_proofreading_status',\n",
       " 'multi_input_spine_predictions_ssa',\n",
       " 'synapse_target_structure',\n",
       " 'proofreading_status_and_strategy',\n",
       " 'coregistration_auto_phase3_fwd_v2',\n",
       " 'vortex_peptidergic_proofreading_status',\n",
       " 'digital_twin_properties_bcm_coreg_v4',\n",
       " 'vortex_astrocyte_proofreading_status',\n",
       " 'digital_twin_properties_bcm_coreg_auto_phase3_fwd_v2',\n",
       " 'digital_twin_properties_bcm_coreg_apl_vess_fwd',\n",
       " 'gamlin_2023_mcs_met_types',\n",
       " 'vortex_manual_myelination_v0',\n",
       " 'synapse_target_predictions_ssa',\n",
       " 'aibs_metamodel_celltypes_v661']"
      ]
     },
     "execution_count": 33,
     "metadata": {},
     "output_type": "execute_result"
    }
   ],
   "source": [
    "client.version = 1412 # 2025-04-29\n",
    "client.version = 1507\n",
    "# Otros dataset son (All database functions are under the client.materialize property)\n",
    "client.materialize.get_tables()"
   ]
  },
  {
   "cell_type": "code",
   "execution_count": 47,
   "id": "fdb8d7b0",
   "metadata": {},
   "outputs": [
    {
     "name": "stdout",
     "output_type": "stream",
     "text": [
      "\n",
      "A table of EM nucleus centroids manually matched to Baylor functional units.\n",
      "A unique functional unit is identified by its session, scan_idx and unit_id. \n",
      "An EM nucleus centroid may have matched to more than one functional unit \n",
      "if it was scanned on more than one imaging field. \n",
      "The residual column is the distance between the EM nucleus \n",
      "centroid after transformation to 2P space (EM > 2P coregistration spline tranformation (transform_id=6, \n",
      "in  cajal/microns_phase3_nda  github)) and the functional unit centroid in the 2P space (units of um). \n",
      "The score column is the residual subtracted from the residual of the nearest non-matched \n",
      "EM nucleus centroid (units of um). \n",
      "Entries with low residuals and high scores are higher confidence matches. \n",
      "Negative scores indicate that the transform placed the functional unit centroid \n",
      "closer to a competing EM nucleus rather than the one selected by the matcher. \n",
      "This table replaces coregistration_manual_v3, with both new and updated matches, as of May 21st, 2024.\n",
      " [Note: This table 'coregistration_manual_v4' will update the 'target_id' foreign_key when updates are made to the 'nucleus_detection_v0' table] \n"
     ]
    }
   ],
   "source": [
    "# Obtener la metadara de las tablas \n",
    "dataset = 'coregistration_manual_v4'\n",
    "print(client.materialize.get_table_metadata(dataset)['description'])\n",
    "# voxel_resolutions es en término de nm/voxel"
   ]
  },
  {
   "cell_type": "code",
   "execution_count": 48,
   "id": "be857c36",
   "metadata": {},
   "outputs": [
    {
     "data": {
      "text/html": [
       "<div>\n",
       "<style scoped>\n",
       "    .dataframe tbody tr th:only-of-type {\n",
       "        vertical-align: middle;\n",
       "    }\n",
       "\n",
       "    .dataframe tbody tr th {\n",
       "        vertical-align: top;\n",
       "    }\n",
       "\n",
       "    .dataframe thead th {\n",
       "        text-align: right;\n",
       "    }\n",
       "</style>\n",
       "<table border=\"1\" class=\"dataframe\">\n",
       "  <thead>\n",
       "    <tr style=\"text-align: right;\">\n",
       "      <th></th>\n",
       "      <th>id</th>\n",
       "      <th>created</th>\n",
       "      <th>valid</th>\n",
       "      <th>target_id</th>\n",
       "      <th>session</th>\n",
       "      <th>scan_idx</th>\n",
       "      <th>unit_id</th>\n",
       "      <th>field</th>\n",
       "      <th>residual</th>\n",
       "      <th>score</th>\n",
       "      <th>id_ref</th>\n",
       "      <th>created_ref</th>\n",
       "      <th>valid_ref</th>\n",
       "      <th>volume</th>\n",
       "      <th>pt_supervoxel_id</th>\n",
       "      <th>pt_root_id</th>\n",
       "      <th>pt_position</th>\n",
       "      <th>bb_start_position</th>\n",
       "      <th>bb_end_position</th>\n",
       "    </tr>\n",
       "  </thead>\n",
       "  <tbody>\n",
       "    <tr>\n",
       "      <th>0</th>\n",
       "      <td>5491</td>\n",
       "      <td>2024-05-21 18:38:25.372047+00:00</td>\n",
       "      <td>t</td>\n",
       "      <td>335649</td>\n",
       "      <td>6</td>\n",
       "      <td>2</td>\n",
       "      <td>6883</td>\n",
       "      <td>6</td>\n",
       "      <td>7.41244</td>\n",
       "      <td>2.60806</td>\n",
       "      <td>335649</td>\n",
       "      <td>2020-09-28 22:41:20.303372+00:00</td>\n",
       "      <td>t</td>\n",
       "      <td>295.861125</td>\n",
       "      <td>93747454767483710</td>\n",
       "      <td>864691135702330235</td>\n",
       "      <td>[210784, 182032, 22673]</td>\n",
       "      <td>[nan, nan, nan]</td>\n",
       "      <td>[nan, nan, nan]</td>\n",
       "    </tr>\n",
       "    <tr>\n",
       "      <th>1</th>\n",
       "      <td>12542</td>\n",
       "      <td>2024-05-21 18:42:40.285576+00:00</td>\n",
       "      <td>t</td>\n",
       "      <td>194144</td>\n",
       "      <td>7</td>\n",
       "      <td>4</td>\n",
       "      <td>9575</td>\n",
       "      <td>6</td>\n",
       "      <td>8.55708</td>\n",
       "      <td>-0.71490</td>\n",
       "      <td>194144</td>\n",
       "      <td>2020-09-28 22:42:01.511773+00:00</td>\n",
       "      <td>t</td>\n",
       "      <td>213.307228</td>\n",
       "      <td>83542405709639148</td>\n",
       "      <td>864691135614842827</td>\n",
       "      <td>[136400, 170640, 17951]</td>\n",
       "      <td>[nan, nan, nan]</td>\n",
       "      <td>[nan, nan, nan]</td>\n",
       "    </tr>\n",
       "    <tr>\n",
       "      <th>2</th>\n",
       "      <td>15097</td>\n",
       "      <td>2024-05-21 18:42:41.703496+00:00</td>\n",
       "      <td>t</td>\n",
       "      <td>194144</td>\n",
       "      <td>8</td>\n",
       "      <td>5</td>\n",
       "      <td>8632</td>\n",
       "      <td>6</td>\n",
       "      <td>4.25055</td>\n",
       "      <td>7.87525</td>\n",
       "      <td>194144</td>\n",
       "      <td>2020-09-28 22:42:01.511773+00:00</td>\n",
       "      <td>t</td>\n",
       "      <td>213.307228</td>\n",
       "      <td>83542405709639148</td>\n",
       "      <td>864691135614842827</td>\n",
       "      <td>[136400, 170640, 17951]</td>\n",
       "      <td>[nan, nan, nan]</td>\n",
       "      <td>[nan, nan, nan]</td>\n",
       "    </tr>\n",
       "    <tr>\n",
       "      <th>3</th>\n",
       "      <td>12829</td>\n",
       "      <td>2024-05-21 18:42:40.443453+00:00</td>\n",
       "      <td>t</td>\n",
       "      <td>517966</td>\n",
       "      <td>7</td>\n",
       "      <td>5</td>\n",
       "      <td>1526</td>\n",
       "      <td>2</td>\n",
       "      <td>5.82370</td>\n",
       "      <td>4.16608</td>\n",
       "      <td>517966</td>\n",
       "      <td>2020-09-28 22:41:48.288009+00:00</td>\n",
       "      <td>t</td>\n",
       "      <td>313.318932</td>\n",
       "      <td>107530794289274882</td>\n",
       "      <td>864691136966116814</td>\n",
       "      <td>[310944, 115888, 16752]</td>\n",
       "      <td>[nan, nan, nan]</td>\n",
       "      <td>[nan, nan, nan]</td>\n",
       "    </tr>\n",
       "    <tr>\n",
       "      <th>4</th>\n",
       "      <td>18299</td>\n",
       "      <td>2024-05-21 18:42:43.440278+00:00</td>\n",
       "      <td>t</td>\n",
       "      <td>293318</td>\n",
       "      <td>9</td>\n",
       "      <td>4</td>\n",
       "      <td>8066</td>\n",
       "      <td>6</td>\n",
       "      <td>5.63758</td>\n",
       "      <td>8.91502</td>\n",
       "      <td>293318</td>\n",
       "      <td>2020-09-28 22:45:23.572432+00:00</td>\n",
       "      <td>t</td>\n",
       "      <td>430.108180</td>\n",
       "      <td>90783515419343652</td>\n",
       "      <td>864691135430194992</td>\n",
       "      <td>[189472, 119296, 26037]</td>\n",
       "      <td>[nan, nan, nan]</td>\n",
       "      <td>[nan, nan, nan]</td>\n",
       "    </tr>\n",
       "  </tbody>\n",
       "</table>\n",
       "</div>"
      ],
      "text/plain": [
       "      id                          created valid  target_id  session  scan_idx  \\\n",
       "0   5491 2024-05-21 18:38:25.372047+00:00     t     335649        6         2   \n",
       "1  12542 2024-05-21 18:42:40.285576+00:00     t     194144        7         4   \n",
       "2  15097 2024-05-21 18:42:41.703496+00:00     t     194144        8         5   \n",
       "3  12829 2024-05-21 18:42:40.443453+00:00     t     517966        7         5   \n",
       "4  18299 2024-05-21 18:42:43.440278+00:00     t     293318        9         4   \n",
       "\n",
       "   unit_id  field  residual    score  id_ref                      created_ref  \\\n",
       "0     6883      6   7.41244  2.60806  335649 2020-09-28 22:41:20.303372+00:00   \n",
       "1     9575      6   8.55708 -0.71490  194144 2020-09-28 22:42:01.511773+00:00   \n",
       "2     8632      6   4.25055  7.87525  194144 2020-09-28 22:42:01.511773+00:00   \n",
       "3     1526      2   5.82370  4.16608  517966 2020-09-28 22:41:48.288009+00:00   \n",
       "4     8066      6   5.63758  8.91502  293318 2020-09-28 22:45:23.572432+00:00   \n",
       "\n",
       "  valid_ref      volume    pt_supervoxel_id          pt_root_id  \\\n",
       "0         t  295.861125   93747454767483710  864691135702330235   \n",
       "1         t  213.307228   83542405709639148  864691135614842827   \n",
       "2         t  213.307228   83542405709639148  864691135614842827   \n",
       "3         t  313.318932  107530794289274882  864691136966116814   \n",
       "4         t  430.108180   90783515419343652  864691135430194992   \n",
       "\n",
       "               pt_position bb_start_position  bb_end_position  \n",
       "0  [210784, 182032, 22673]   [nan, nan, nan]  [nan, nan, nan]  \n",
       "1  [136400, 170640, 17951]   [nan, nan, nan]  [nan, nan, nan]  \n",
       "2  [136400, 170640, 17951]   [nan, nan, nan]  [nan, nan, nan]  \n",
       "3  [310944, 115888, 16752]   [nan, nan, nan]  [nan, nan, nan]  \n",
       "4  [189472, 119296, 26037]   [nan, nan, nan]  [nan, nan, nan]  "
      ]
     },
     "execution_count": 48,
     "metadata": {},
     "output_type": "execute_result"
    }
   ],
   "source": [
    "cell_type_df = client.materialize.query_table(dataset)\n",
    "cell_type_df.head()"
   ]
  },
  {
   "cell_type": "code",
   "execution_count": 49,
   "id": "1d446df2",
   "metadata": {},
   "outputs": [],
   "source": [
    "cell_type_df.to_csv('dataset/coregistration_manual_v4.csv', index=False)"
   ]
  }
 ],
 "metadata": {
  "kernelspec": {
   "display_name": "base",
   "language": "python",
   "name": "python3"
  },
  "language_info": {
   "codemirror_mode": {
    "name": "ipython",
    "version": 3
   },
   "file_extension": ".py",
   "mimetype": "text/x-python",
   "name": "python",
   "nbconvert_exporter": "python",
   "pygments_lexer": "ipython3",
   "version": "3.12.3"
  }
 },
 "nbformat": 4,
 "nbformat_minor": 5
}
