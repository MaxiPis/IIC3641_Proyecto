{
 "cells": [
  {
   "cell_type": "code",
   "execution_count": 1,
   "id": "12f30113",
   "metadata": {},
   "outputs": [
    {
     "name": "stdout",
     "output_type": "stream",
     "text": [
      "New Tokens need to be acquired by hand. Please follow the following steps:\n",
      "                1) Go to: https://global.daf-apis.com/auth/api/v1/create_token to create a new token.\n",
      "                2) Log in with your Google credentials and copy the token shown afterward.\n",
      "                3a) Save it to your computer with: client.auth.save_token(token=\"PASTE_YOUR_TOKEN_HERE\")\n",
      "                or\n",
      "                3b) Set it for the current session only with client.auth.token = \"PASTE_YOUR_TOKEN_HERE\"\n",
      "                Note: If you need to save or load multiple tokens, please read the documentation for details.\n",
      "                Warning! Creating a new token by finishing step 2 will invalidate the previous token!\n"
     ]
    }
   ],
   "source": [
    "# Realizamos el setup\n",
    "from caveclient import CAVEclient\n",
    "client = CAVEclient()\n",
    "client.auth.setup_token(make_new=True)"
   ]
  },
  {
   "cell_type": "code",
   "execution_count": 2,
   "id": "c4e62f65",
   "metadata": {},
   "outputs": [],
   "source": [
    "YOUR_TOKEN = \"bda5a85005cc3afb7a77313e1b706f05\"\n",
    "client.auth.save_token(token=YOUR_TOKEN)"
   ]
  },
  {
   "cell_type": "code",
   "execution_count": 3,
   "id": "2f606414",
   "metadata": {},
   "outputs": [],
   "source": [
    "# Probando si estamos dentro\n",
    "client = CAVEclient('minnie65_public')"
   ]
  },
  {
   "cell_type": "markdown",
   "id": "02951597",
   "metadata": {},
   "source": [
    "Continuamos con la parte 2 del tutorial"
   ]
  },
  {
   "cell_type": "code",
   "execution_count": 4,
   "id": "b7d012a0",
   "metadata": {},
   "outputs": [
    {
     "data": {
      "text/plain": [
       "'This is the publicly released version of the minnie65 volume and segmentation. '"
      ]
     },
     "execution_count": 4,
     "metadata": {},
     "output_type": "execute_result"
    }
   ],
   "source": [
    "from caveclient import CAVEclient\n",
    "datastack_name = 'minnie65_public'\n",
    "client = CAVEclient(datastack_name)\n",
    "\n",
    "# Show the description of the datastack\n",
    "client.info.get_datastack_info()['description']"
   ]
  },
  {
   "cell_type": "code",
   "execution_count": 5,
   "id": "00791a53",
   "metadata": {},
   "outputs": [
    {
     "data": {
      "text/plain": [
       "[1300, 1078, 117, 661, 343, 1181, 795, 943, 1412, 1507]"
      ]
     },
     "execution_count": 5,
     "metadata": {},
     "output_type": "execute_result"
    }
   ],
   "source": [
    "# see the available materialization versions\n",
    "client.materialize.get_versions()"
   ]
  },
  {
   "cell_type": "code",
   "execution_count": 6,
   "id": "2a654fb6",
   "metadata": {},
   "outputs": [
    {
     "name": "stdout",
     "output_type": "stream",
     "text": [
      "Version 1300: 2025-01-13 10:10:01.286229+00:00\n",
      "Version 1078: 2024-06-05 10:10:01.203215+00:00\n",
      "Version 117: 2021-06-11 08:10:00.215114+00:00\n",
      "Version 661: 2023-04-06 20:17:09.199182+00:00\n",
      "Version 343: 2022-02-24 08:10:00.184668+00:00\n",
      "Version 1181: 2024-09-16 10:10:01.121167+00:00\n",
      "Version 795: 2023-08-23 08:10:01.404268+00:00\n",
      "Version 943: 2024-01-22 08:10:01.497934+00:00\n",
      "Version 1412: 2025-04-29 10:10:01.200893+00:00\n",
      "Version 1507: 2025-07-31 08:10:01.117494+00:00\n"
     ]
    }
   ],
   "source": [
    "for version in client.materialize.get_versions():\n",
    "    print(f\"Version {version}: {client.materialize.get_timestamp(version)}\")"
   ]
  },
  {
   "cell_type": "code",
   "execution_count": null,
   "id": "8742a987",
   "metadata": {},
   "outputs": [
    {
     "data": {
      "text/plain": [
       "{'schema': 'nucleus_detection',\n",
       " 'table_name': 'nucleus_detection_v0',\n",
       " 'aligned_volume': 'minnie65_phase3',\n",
       " 'id': 71748,\n",
       " 'valid': True,\n",
       " 'created': '2020-11-02T18:56:35.530100',\n",
       " 'schema_type': 'nucleus_detection',\n",
       " 'user_id': '121',\n",
       " 'description': 'A table of nuclei detections from a nucleus detection model developed by Shang Mu, Leila Elabbady, Gayathri Mahalingam and Forrest Collman. Pt is the centroid of the nucleus detection. id corresponds to the flat_segmentation_source segmentID. Only included nucleus detections of volume>25 um^3, below which detections are false positives, though some false positives above that threshold remain. ',\n",
       " 'notice_text': None,\n",
       " 'reference_table': None,\n",
       " 'flat_segmentation_source': 'precomputed://https://bossdb-open-data.s3.amazonaws.com/iarpa_microns/minnie/minnie65/nuclei',\n",
       " 'write_permission': 'PRIVATE',\n",
       " 'read_permission': 'PUBLIC',\n",
       " 'last_modified': '2022-10-25T19:24:28.559914',\n",
       " 'segmentation_source': '',\n",
       " 'pcg_table_name': 'minnie3_v1',\n",
       " 'last_updated': '2025-10-23T08:10:01.296288',\n",
       " 'voxel_resolution': [4.0, 4.0, 40.0]}"
      ]
     },
     "execution_count": 8,
     "metadata": {},
     "output_type": "execute_result"
    }
   ],
   "source": [
    "client.version = 1507\n",
    "# Otros dataset son (All database functions are under the client.materialize property)\n",
    "client.materialize.get_tables()\n",
    "\n",
    "# Obtener la metadara de las tablas \n",
    "client.materialize.get_table_metadata('nucleus_detection_v0')\n",
    "# voxel_resolutions es en término de nm/voxel"
   ]
  }
 ],
 "metadata": {
  "kernelspec": {
   "display_name": "base",
   "language": "python",
   "name": "python3"
  },
  "language_info": {
   "codemirror_mode": {
    "name": "ipython",
    "version": 3
   },
   "file_extension": ".py",
   "mimetype": "text/x-python",
   "name": "python",
   "nbconvert_exporter": "python",
   "pygments_lexer": "ipython3",
   "version": "3.12.3"
  }
 },
 "nbformat": 4,
 "nbformat_minor": 5
}
